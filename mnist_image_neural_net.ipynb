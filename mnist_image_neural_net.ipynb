{
 "cells": [
  {
   "cell_type": "code",
   "execution_count": 1,
   "metadata": {},
   "outputs": [],
   "source": [
    "from keras.datasets import mnist\n",
    "from keras.preprocessing.image import load_img, array_to_img\n",
    "from keras.utils.np_utils import to_categorical\n",
    "from keras.models import Sequential\n",
    "from keras.layers import Dense\n",
    "\n",
    "import numpy as np\n",
    "import matplotlib.pyplot as plt"
   ]
  },
  {
   "cell_type": "code",
   "execution_count": 2,
   "metadata": {},
   "outputs": [],
   "source": [
    "(x_train, y_train), (x_test, y_test) = mnist.load_data()"
   ]
  },
  {
   "cell_type": "code",
   "execution_count": 3,
   "metadata": {},
   "outputs": [
    {
     "name": "stdout",
     "output_type": "stream",
     "text": [
      "(60000, 28, 28)\n",
      "(60000,)\n",
      "(10000, 28, 28)\n",
      "(10000,)\n"
     ]
    }
   ],
   "source": [
    "print(x_train.shape)\n",
    "print(y_train.shape)\n",
    "print(x_test.shape)\n",
    "print(y_test.shape)"
   ]
  },
  {
   "cell_type": "code",
   "execution_count": 4,
   "metadata": {},
   "outputs": [
    {
     "name": "stdout",
     "output_type": "stream",
     "text": [
      "5\n"
     ]
    },
    {
     "data": {
      "image/png": "[encoded data removed]",
      "text/plain": [
       "<Figure size 432x288 with 1 Axes>"
      ]
     },
     "metadata": {
      "needs_background": "light"
     },
     "output_type": "display_data"
    }
   ],
   "source": [
    "plt.imshow(x_train[0], cmap='gray')\n",
    "print(y_train[0])"
   ]
  },
  {
   "cell_type": "code",
   "execution_count": 5,
   "metadata": {},
   "outputs": [
    {
     "name": "stdout",
     "output_type": "stream",
     "text": [
      "(60000, 784)\n",
      "(10000, 784)\n"
     ]
    }
   ],
   "source": [
    "image_height, image_width = 28,28\n",
    "x_train = x_train.reshape(60000, image_height*image_width)\n",
    "x_test = x_test.reshape(10000, image_height*image_width)\n",
    "print(x_train.shape)\n",
    "print(x_test.shape)"
   ]
  },
  {
   "cell_type": "code",
   "execution_count": 6,
   "metadata": {},
   "outputs": [
    {
     "name": "stdout",
     "output_type": "stream",
     "text": [
      "(60000,)\n",
      "(10000,)\n"
     ]
    }
   ],
   "source": [
    "x_train = x_train.astype('float32')\n",
    "x_test = x_test.astype('float32')\n",
    "x_train /= 255.0\n",
    "x_test /= 255.0\n",
    "print(y_train.shape)\n",
    "print(y_test.shape)"
   ]
  },
  {
   "cell_type": "code",
   "execution_count": 7,
   "metadata": {},
   "outputs": [
    {
     "name": "stdout",
     "output_type": "stream",
     "text": [
      "(60000, 10)\n",
      "(10000, 10)\n"
     ]
    }
   ],
   "source": [
    "y_train = to_categorical(y_train, 10)\n",
    "print(y_train.shape)\n",
    "y_test = to_categorical(y_test, 10)\n",
    "print(y_test.shape)"
   ]
  },
  {
   "cell_type": "code",
   "execution_count": 9,
   "metadata": {},
   "outputs": [
    {
     "name": "stdout",
     "output_type": "stream",
     "text": [
      "Model: \"sequential_1\"\n",
      "_________________________________________________________________\n",
      "Layer (type)                 Output Shape              Param #   \n",
      "=================================================================\n",
      "dense_3 (Dense)              (None, 512)               401920    \n",
      "_________________________________________________________________\n",
      "dense_4 (Dense)              (None, 512)               262656    \n",
      "_________________________________________________________________\n",
      "dense_5 (Dense)              (None, 10)                5130      \n",
      "=================================================================\n",
      "Total params: 669,706\n",
      "Trainable params: 669,706\n",
      "Non-trainable params: 0\n",
      "_________________________________________________________________\n",
      "None\n"
     ]
    }
   ],
   "source": [
    "model = Sequential()\n",
    "model.add(Dense(512, activation='relu', input_shape= (784,)))\n",
    "model.add(Dense(512, activation='relu'))\n",
    "model.add(Dense(10, activation='softmax'))\n",
    "model.compile(optimizer='adam', loss='categorical_crossentropy', metrics=['accuracy'])\n",
    "print(model.summary())"
   ]
  },
  {
   "cell_type": "code",
   "execution_count": 10,
   "metadata": {},
   "outputs": [
    {
     "name": "stdout",
     "output_type": "stream",
     "text": [
      "401920\n",
      "262656\n",
      "5130\n"
     ]
    }
   ],
   "source": [
    "print(784*512+512)\n",
    "print(512*512+512)\n",
    "print(512*10+10)"
   ]
  },
  {
   "cell_type": "code",
   "execution_count": 11,
   "metadata": {},
   "outputs": [
    {
     "name": "stdout",
     "output_type": "stream",
     "text": [
      "Epoch 1/20\n",
      "1875/1875 [==============================] - 9s 5ms/step - loss: 0.1834 - accuracy: 0.9443 - val_loss: 0.0938 - val_accuracy: 0.9701\n",
      "Epoch 2/20\n",
      "1875/1875 [==============================] - 8s 4ms/step - loss: 0.0824 - accuracy: 0.9746 - val_loss: 0.0935 - val_accuracy: 0.9710\n",
      "Epoch 3/20\n",
      "1875/1875 [==============================] - 8s 4ms/step - loss: 0.0561 - accuracy: 0.9822 - val_loss: 0.0875 - val_accuracy: 0.9748\n",
      "Epoch 4/20\n",
      "1875/1875 [==============================] - 8s 4ms/step - loss: 0.0413 - accuracy: 0.9870 - val_loss: 0.0903 - val_accuracy: 0.9764\n",
      "Epoch 5/20\n",
      "1875/1875 [==============================] - 8s 5ms/step - loss: 0.0360 - accuracy: 0.9889 - val_loss: 0.0882 - val_accuracy: 0.9753\n",
      "Epoch 6/20\n",
      "1875/1875 [==============================] - 9s 5ms/step - loss: 0.0280 - accuracy: 0.9908 - val_loss: 0.0870 - val_accuracy: 0.9807\n",
      "Epoch 7/20\n",
      "1875/1875 [==============================] - 7s 4ms/step - loss: 0.0236 - accuracy: 0.9926 - val_loss: 0.0910 - val_accuracy: 0.9783\n",
      "Epoch 8/20\n",
      "1875/1875 [==============================] - 9s 5ms/step - loss: 0.0213 - accuracy: 0.9928 - val_loss: 0.1091 - val_accuracy: 0.9766\n",
      "Epoch 9/20\n",
      "1875/1875 [==============================] - 6s 3ms/step - loss: 0.0208 - accuracy: 0.9940 - val_loss: 0.0980 - val_accuracy: 0.9805\n",
      "Epoch 10/20\n",
      "1875/1875 [==============================] - 7s 4ms/step - loss: 0.0195 - accuracy: 0.9944 - val_loss: 0.1052 - val_accuracy: 0.9806\n",
      "Epoch 11/20\n",
      "1875/1875 [==============================] - 9s 5ms/step - loss: 0.0177 - accuracy: 0.9950 - val_loss: 0.1193 - val_accuracy: 0.9779\n",
      "Epoch 12/20\n",
      "1875/1875 [==============================] - 9s 5ms/step - loss: 0.0174 - accuracy: 0.9952 - val_loss: 0.1175 - val_accuracy: 0.9780\n",
      "Epoch 13/20\n",
      "1875/1875 [==============================] - 8s 4ms/step - loss: 0.0153 - accuracy: 0.9955 - val_loss: 0.1173 - val_accuracy: 0.9789\n",
      "Epoch 14/20\n",
      "1875/1875 [==============================] - 9s 5ms/step - loss: 0.0177 - accuracy: 0.9950 - val_loss: 0.1067 - val_accuracy: 0.9817\n",
      "Epoch 15/20\n",
      "1875/1875 [==============================] - 8s 5ms/step - loss: 0.0103 - accuracy: 0.9972 - val_loss: 0.1372 - val_accuracy: 0.9777\n",
      "Epoch 16/20\n",
      "1875/1875 [==============================] - 8s 4ms/step - loss: 0.0178 - accuracy: 0.9950 - val_loss: 0.1296 - val_accuracy: 0.9811\n",
      "Epoch 17/20\n",
      "1875/1875 [==============================] - 8s 4ms/step - loss: 0.0114 - accuracy: 0.9967 - val_loss: 0.1249 - val_accuracy: 0.9821\n",
      "Epoch 18/20\n",
      "1875/1875 [==============================] - 9s 5ms/step - loss: 0.0157 - accuracy: 0.9958 - val_loss: 0.1338 - val_accuracy: 0.9803\n",
      "Epoch 19/20\n",
      "1875/1875 [==============================] - 7s 4ms/step - loss: 0.0145 - accuracy: 0.9964 - val_loss: 0.1192 - val_accuracy: 0.9817\n",
      "Epoch 20/20\n",
      "1875/1875 [==============================] - 8s 4ms/step - loss: 0.0126 - accuracy: 0.9966 - val_loss: 0.1853 - val_accuracy: 0.9778\n"
     ]
    }
   ],
   "source": [
    "history = model.fit(x_train, y_train, epochs=20, validation_data=(x_test, y_test))"
   ]
  },
  {
   "cell_type": "code",
   "execution_count": 12,
   "metadata": {},
   "outputs": [
    {
     "data": {
      "image/png": "[encoded data removed]",
      "text/plain": [
       "<Figure size 432x288 with 1 Axes>"
      ]
     },
     "metadata": {
      "needs_background": "light"
     },
     "output_type": "display_data"
    }
   ],
   "source": [
    "plt.plot(history.history['accuracy'], label='Accuracy')\n",
    "plt.plot(history.history['val_accuracy'], label='Val Accuracy')\n",
    "plt.plot(history.history['loss'], label='Loss')\n",
    "plt.title('Accuracy Metrics')\n",
    "plt.xlabel('Epochs')\n",
    "plt.legend()\n",
    "plt.show()"
   ]
  },
  {
   "cell_type": "code",
   "execution_count": 13,
   "metadata": {},
   "outputs": [
    {
     "name": "stdout",
     "output_type": "stream",
     "text": [
      "313/313 [==============================] - 0s 1ms/step - loss: 0.1853 - accuracy: 0.9778\n",
      "[0.1852703094482422, 0.9778000116348267]\n"
     ]
    }
   ],
   "source": [
    "score = model.evaluate(x_test, y_test)\n",
    "print(score)"
   ]
  }
 ],
 "metadata": {
  "interpreter": {
   "hash": "9fec3ab36716fe125c1a0073683c6433cb45ee410fe515abe8040210eb6e3016"
  },
  "kernelspec": {
   "display_name": "Python 3.8.8 64-bit ('base': conda)",
   "language": "python",
   "name": "python3"
  },
  "language_info": {
   "codemirror_mode": {
    "name": "ipython",
    "version": 3
   },
   "file_extension": ".py",
   "mimetype": "text/x-python",
   "name": "python",
   "nbconvert_exporter": "python",
   "pygments_lexer": "ipython3",
   "version": "3.8.8"
  },
  "orig_nbformat": 4
 },
 "nbformat": 4,
 "nbformat_minor": 2
}
