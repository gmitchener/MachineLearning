{
 "cells": [
  {
   "cell_type": "markdown",
   "metadata": {},
   "source": [
    "### Computer Vision\n",
    "The goal of computer vision is to build a neural network that can understand a natural image well enough to solve the same kinds of problems as th human visual system. The neural networks that are best at this taask are **convolutional neural networks** (CNN). Convolution is a mathematical operation. \n",
    "\n",
    "#### The Convolutional Classifier\n",
    "* Convolutional base: extract features from the image - primarily formed of layers performing convolution operation\n",
    "* Dense head: determines the class of the image - primarily formed of dense layers (might include other layers like drop out)\n",
    "\n",
    "##### Training the Classifier\n",
    "The goal of the network training is to learn:\n",
    "1. Which features to extract (base)\n",
    "2. Which class goes with which features (head)\n",
    "\n",
    "Now, CNNs are rarely trained from scratch, typically the base of a pretrained model is reused in a technique called transfer learning.\n"
   ]
  },
  {
   "cell_type": "code",
   "execution_count": 2,
   "metadata": {},
   "outputs": [],
   "source": [
    "import warnings \n",
    "warnings.filterwarnings('ignore')\n",
    "import numpy as np \n",
    "import matplotlib.pyplot as plt \n",
    "import tensorflow as tf\n",
    "from tensorflow.keras.preprocessing import image_dataset_from_directory"
   ]
  },
  {
   "cell_type": "code",
   "execution_count": null,
   "metadata": {},
   "outputs": [],
   "source": [
    "ds_train = image_dataset_from_directory('CV_CT_input/train', labels='inferred', label_mode='binary', image_size=[128,128], interpolation='nearest', batch_size=64, shuffle=True)\n",
    "ds_valid = image_dataset_from_directory('CV_CT_input/valid', labels='inferred', label_mode='binary', image_size=[128,128], interpolation='nearest', batch_size=64, shuffle=False)"
   ]
  },
  {
   "cell_type": "code",
   "execution_count": null,
   "metadata": {},
   "outputs": [],
   "source": [
    "def convert_to_float(image, label):\n",
    "    image = tf.image.convert_image_dtype(image, dtype=tf.float32)\n",
    "    return image, label"
   ]
  },
  {
   "cell_type": "code",
   "execution_count": null,
   "metadata": {},
   "outputs": [],
   "source": [
    "AUTOTUNE = tf.data.experimental.AUTOTUNE"
   ]
  },
  {
   "cell_type": "code",
   "execution_count": null,
   "metadata": {},
   "outputs": [],
   "source": [
    "ds_train = (ds_train_.map(convert_to_float).cache().prefetch(buffer_size=AUTOTUNE))\n",
    "ds_train = (ds_valid_.map(convert_to_float).cache().prefetch(buffer_size=AUTOTUNE))"
   ]
  }
 ],
 "metadata": {
  "interpreter": {
   "hash": "9fec3ab36716fe125c1a0073683c6433cb45ee410fe515abe8040210eb6e3016"
  },
  "kernelspec": {
   "display_name": "Python 3.8.8 64-bit ('base': conda)",
   "language": "python",
   "name": "python3"
  },
  "language_info": {
   "codemirror_mode": {
    "name": "ipython",
    "version": 3
   },
   "file_extension": ".py",
   "mimetype": "text/x-python",
   "name": "python",
   "nbconvert_exporter": "python",
   "pygments_lexer": "ipython3",
   "version": "3.8.8"
  },
  "orig_nbformat": 4
 },
 "nbformat": 4,
 "nbformat_minor": 2
}
