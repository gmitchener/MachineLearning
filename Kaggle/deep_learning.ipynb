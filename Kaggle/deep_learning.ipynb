{
 "cells": [
  {
   "cell_type": "markdown",
   "metadata": {},
   "source": [
    "### Deep Learning\n",
    "Deep learning is an approach to machine learning characterised by deep stacks of computation. Neural networks have become the defining model of deep learning through their power and scalability.\n",
    "\n",
    "One neuron is a linear unit: y = wx + b.\n",
    "\n",
    "The input is *x* with weight *w* and bias *b*.\n",
    "\n",
    "These linear units are used for multiple inputs to create bigger neurons: y = w_0*x_0 + w_1*x_1 + w_2*x_2 + b. "
   ]
  },
  {
   "cell_type": "code",
   "execution_count": 1,
   "metadata": {},
   "outputs": [],
   "source": [
    "import tensorflow as tf\n",
    "from tensorflow import keras\n",
    "from tensorflow.keras import layers"
   ]
  },
  {
   "cell_type": "code",
   "execution_count": 2,
   "metadata": {},
   "outputs": [],
   "source": [
    "import pandas as pd"
   ]
  },
  {
   "cell_type": "code",
   "execution_count": 3,
   "metadata": {},
   "outputs": [
    {
     "data": {
      "text/html": [
       "<div>\n",
       "<style scoped>\n",
       "    .dataframe tbody tr th:only-of-type {\n",
       "        vertical-align: middle;\n",
       "    }\n",
       "\n",
       "    .dataframe tbody tr th {\n",
       "        vertical-align: top;\n",
       "    }\n",
       "\n",
       "    .dataframe thead th {\n",
       "        text-align: right;\n",
       "    }\n",
       "</style>\n",
       "<table border=\"1\" class=\"dataframe\">\n",
       "  <thead>\n",
       "    <tr style=\"text-align: right;\">\n",
       "      <th></th>\n",
       "      <th>fixed acidity</th>\n",
       "      <th>volatile acidity</th>\n",
       "      <th>citric acid</th>\n",
       "      <th>residual sugar</th>\n",
       "      <th>chlorides</th>\n",
       "      <th>free sulfur dioxide</th>\n",
       "      <th>total sulfur dioxide</th>\n",
       "      <th>density</th>\n",
       "      <th>pH</th>\n",
       "      <th>sulphates</th>\n",
       "      <th>alcohol</th>\n",
       "      <th>quality</th>\n",
       "    </tr>\n",
       "  </thead>\n",
       "  <tbody>\n",
       "    <tr>\n",
       "      <th>0</th>\n",
       "      <td>7.4</td>\n",
       "      <td>0.70</td>\n",
       "      <td>0.00</td>\n",
       "      <td>1.9</td>\n",
       "      <td>0.076</td>\n",
       "      <td>11.0</td>\n",
       "      <td>34.0</td>\n",
       "      <td>0.9978</td>\n",
       "      <td>3.51</td>\n",
       "      <td>0.56</td>\n",
       "      <td>9.4</td>\n",
       "      <td>5</td>\n",
       "    </tr>\n",
       "    <tr>\n",
       "      <th>1</th>\n",
       "      <td>7.8</td>\n",
       "      <td>0.88</td>\n",
       "      <td>0.00</td>\n",
       "      <td>2.6</td>\n",
       "      <td>0.098</td>\n",
       "      <td>25.0</td>\n",
       "      <td>67.0</td>\n",
       "      <td>0.9968</td>\n",
       "      <td>3.20</td>\n",
       "      <td>0.68</td>\n",
       "      <td>9.8</td>\n",
       "      <td>5</td>\n",
       "    </tr>\n",
       "    <tr>\n",
       "      <th>2</th>\n",
       "      <td>7.8</td>\n",
       "      <td>0.76</td>\n",
       "      <td>0.04</td>\n",
       "      <td>2.3</td>\n",
       "      <td>0.092</td>\n",
       "      <td>15.0</td>\n",
       "      <td>54.0</td>\n",
       "      <td>0.9970</td>\n",
       "      <td>3.26</td>\n",
       "      <td>0.65</td>\n",
       "      <td>9.8</td>\n",
       "      <td>5</td>\n",
       "    </tr>\n",
       "    <tr>\n",
       "      <th>3</th>\n",
       "      <td>11.2</td>\n",
       "      <td>0.28</td>\n",
       "      <td>0.56</td>\n",
       "      <td>1.9</td>\n",
       "      <td>0.075</td>\n",
       "      <td>17.0</td>\n",
       "      <td>60.0</td>\n",
       "      <td>0.9980</td>\n",
       "      <td>3.16</td>\n",
       "      <td>0.58</td>\n",
       "      <td>9.8</td>\n",
       "      <td>6</td>\n",
       "    </tr>\n",
       "    <tr>\n",
       "      <th>4</th>\n",
       "      <td>7.4</td>\n",
       "      <td>0.70</td>\n",
       "      <td>0.00</td>\n",
       "      <td>1.9</td>\n",
       "      <td>0.076</td>\n",
       "      <td>11.0</td>\n",
       "      <td>34.0</td>\n",
       "      <td>0.9978</td>\n",
       "      <td>3.51</td>\n",
       "      <td>0.56</td>\n",
       "      <td>9.4</td>\n",
       "      <td>5</td>\n",
       "    </tr>\n",
       "  </tbody>\n",
       "</table>\n",
       "</div>"
      ],
      "text/plain": [
       "   fixed acidity  volatile acidity  citric acid  residual sugar  chlorides  \\\n",
       "0            7.4              0.70         0.00             1.9      0.076   \n",
       "1            7.8              0.88         0.00             2.6      0.098   \n",
       "2            7.8              0.76         0.04             2.3      0.092   \n",
       "3           11.2              0.28         0.56             1.9      0.075   \n",
       "4            7.4              0.70         0.00             1.9      0.076   \n",
       "\n",
       "   free sulfur dioxide  total sulfur dioxide  density    pH  sulphates  \\\n",
       "0                 11.0                  34.0   0.9978  3.51       0.56   \n",
       "1                 25.0                  67.0   0.9968  3.20       0.68   \n",
       "2                 15.0                  54.0   0.9970  3.26       0.65   \n",
       "3                 17.0                  60.0   0.9980  3.16       0.58   \n",
       "4                 11.0                  34.0   0.9978  3.51       0.56   \n",
       "\n",
       "   alcohol  quality  \n",
       "0      9.4        5  \n",
       "1      9.8        5  \n",
       "2      9.8        5  \n",
       "3      9.8        6  \n",
       "4      9.4        5  "
      ]
     },
     "execution_count": 3,
     "metadata": {},
     "output_type": "execute_result"
    }
   ],
   "source": [
    "red_wine = pd.read_csv('red-wine.csv')\n",
    "red_wine.head()"
   ]
  },
  {
   "cell_type": "code",
   "execution_count": 4,
   "metadata": {},
   "outputs": [],
   "source": [
    "input_shape = [red_wine.shape[1]-1]"
   ]
  },
  {
   "cell_type": "code",
   "execution_count": 5,
   "metadata": {},
   "outputs": [],
   "source": [
    "basic_model = keras.Sequential([layers.Dense(units=1, input_shape=input_shape)])"
   ]
  },
  {
   "cell_type": "code",
   "execution_count": 6,
   "metadata": {},
   "outputs": [
    {
     "name": "stdout",
     "output_type": "stream",
     "text": [
      "Weights: <tf.Variable 'dense/kernel:0' shape=(11, 1) dtype=float32, numpy=\n",
      "array([[-0.548211  ],\n",
      "       [ 0.2797438 ],\n",
      "       [ 0.02876961],\n",
      "       [ 0.41383332],\n",
      "       [ 0.49543935],\n",
      "       [-0.3913667 ],\n",
      "       [ 0.08743364],\n",
      "       [ 0.6348652 ],\n",
      "       [ 0.00663793],\n",
      "       [ 0.6814409 ],\n",
      "       [ 0.1482057 ]], dtype=float32)>\n",
      "\n",
      "Bias: <tf.Variable 'dense/bias:0' shape=(1,) dtype=float32, numpy=array([0.], dtype=float32)>\n"
     ]
    }
   ],
   "source": [
    "w, b = basic_model.weights\n",
    "print(f'Weights: {w}')\n",
    "print()\n",
    "print(f'Bias: {b}')"
   ]
  },
  {
   "cell_type": "markdown",
   "metadata": {},
   "source": [
    "#### Layers\n",
    "Neural networks typically organise neurons into layers. When we collect together linear units with a common set of inputs we get a dense layer. We need a non-linear activation function in order to fit non linear relationships. An activation function is applied to each of a layers outputs. \n",
    "\n",
    "The most common activation function is the rectifier function (A typical x=y graph with the negative part 'rectified' to zero): max(0,x).\n",
    "\n",
    "When applying to linear units we get the ReLU function: max(0, wx+b).\n",
    "\n",
    "We can then have hidden layers before the output layer. \n"
   ]
  },
  {
   "cell_type": "code",
   "execution_count": 7,
   "metadata": {},
   "outputs": [],
   "source": [
    "layers_model = keras.Sequential([layers.Dense(units=4, activation='relu', input_shape=[2]), layers.Dense(units=3, activation='relu'), layers.Dense(units=1)])"
   ]
  },
  {
   "cell_type": "code",
   "execution_count": 8,
   "metadata": {},
   "outputs": [],
   "source": [
    "import matplotlib.pyplot as plt "
   ]
  },
  {
   "cell_type": "code",
   "execution_count": 9,
   "metadata": {},
   "outputs": [],
   "source": [
    "def plot_activation_function(activation_function): \n",
    "    x = tf.linspace(-5, 5, 100)\n",
    "    y = layers.Activation(activation_function)(x)\n",
    "\n",
    "    plt.plot(x,y)\n",
    "    plt.title(activation_function)\n",
    "    plt.xlabel('Input')\n",
    "    plt.ylabel('Output')\n",
    "    plt.show()"
   ]
  },
  {
   "cell_type": "code",
   "execution_count": 10,
   "metadata": {},
   "outputs": [
    {
     "name": "stdout",
     "output_type": "stream",
     "text": [
      "WARNING:tensorflow:Layer activation is casting an input tensor from dtype float64 to the layer's dtype of float32, which is new behavior in TensorFlow 2.  The layer has dtype float32 because its dtype defaults to floatx.\n",
      "\n",
      "If you intended to run this layer in float32, you can safely ignore this warning. If in doubt, this warning is likely only an issue if you are porting a TensorFlow 1.X model to TensorFlow 2.\n",
      "\n",
      "To change all layers to have dtype float64 by default, call `tf.keras.backend.set_floatx('float64')`. To change just this layer, pass dtype='float64' to the layer constructor. If you are the author of this layer, you can disable autocasting by passing autocast=False to the base Layer constructor.\n",
      "\n"
     ]
    },
    {
     "data": {
      "image/png": "[encoded data removed]",
      "text/plain": [
       "<Figure size 432x288 with 1 Axes>"
      ]
     },
     "metadata": {
      "needs_background": "light"
     },
     "output_type": "display_data"
    }
   ],
   "source": [
    "plot_activation_function('relu')"
   ]
  },
  {
   "cell_type": "code",
   "execution_count": 11,
   "metadata": {},
   "outputs": [
    {
     "name": "stdout",
     "output_type": "stream",
     "text": [
      "WARNING:tensorflow:Layer activation_1 is casting an input tensor from dtype float64 to the layer's dtype of float32, which is new behavior in TensorFlow 2.  The layer has dtype float32 because its dtype defaults to floatx.\n",
      "\n",
      "If you intended to run this layer in float32, you can safely ignore this warning. If in doubt, this warning is likely only an issue if you are porting a TensorFlow 1.X model to TensorFlow 2.\n",
      "\n",
      "To change all layers to have dtype float64 by default, call `tf.keras.backend.set_floatx('float64')`. To change just this layer, pass dtype='float64' to the layer constructor. If you are the author of this layer, you can disable autocasting by passing autocast=False to the base Layer constructor.\n",
      "\n"
     ]
    },
    {
     "data": {
      "image/png": "[encoded data removed]",
      "text/plain": [
       "<Figure size 432x288 with 1 Axes>"
      ]
     },
     "metadata": {
      "needs_background": "light"
     },
     "output_type": "display_data"
    }
   ],
   "source": [
    "plot_activation_function('swish')"
   ]
  },
  {
   "cell_type": "code",
   "execution_count": 12,
   "metadata": {},
   "outputs": [
    {
     "name": "stdout",
     "output_type": "stream",
     "text": [
      "WARNING:tensorflow:Layer activation_2 is casting an input tensor from dtype float64 to the layer's dtype of float32, which is new behavior in TensorFlow 2.  The layer has dtype float32 because its dtype defaults to floatx.\n",
      "\n",
      "If you intended to run this layer in float32, you can safely ignore this warning. If in doubt, this warning is likely only an issue if you are porting a TensorFlow 1.X model to TensorFlow 2.\n",
      "\n",
      "To change all layers to have dtype float64 by default, call `tf.keras.backend.set_floatx('float64')`. To change just this layer, pass dtype='float64' to the layer constructor. If you are the author of this layer, you can disable autocasting by passing autocast=False to the base Layer constructor.\n",
      "\n"
     ]
    },
    {
     "data": {
      "image/png": "[encoded data removed]",
      "text/plain": [
       "<Figure size 432x288 with 1 Axes>"
      ]
     },
     "metadata": {
      "needs_background": "light"
     },
     "output_type": "display_data"
    }
   ],
   "source": [
    "plot_activation_function('linear')"
   ]
  },
  {
   "cell_type": "markdown",
   "metadata": {},
   "source": [
    "#### The Loss Function\n",
    "The loss function measures the disparity between the targets true value and the value the model predicts. Thus, it tells the model it's objective.\n",
    "\n",
    "A common loss function for regression problems is the *mean absolute error*, where the absolute error is: abs(y_true - y_predicted), and the total MAE is the mean of all of these. Other loss functions include mean squared error and Huber loss. \n",
    "\n",
    "#### The Optimiser - Stochastic Gradient Descent\n",
    "The optimiser is an algorithm to minimise the loss. The loss function tells the network what to solve and the optimiser tells the model how to solve it. \n",
    "\n",
    "1. Sample some of the training data and run it through the model to make predictions\n",
    "2. Measure the loss\n",
    "3. Adjust the weights in a direction that makes the loss smaller\n"
   ]
  },
  {
   "cell_type": "code",
   "execution_count": 13,
   "metadata": {},
   "outputs": [],
   "source": [
    "from sklearn.model_selection import train_test_split"
   ]
  },
  {
   "cell_type": "code",
   "execution_count": 14,
   "metadata": {},
   "outputs": [],
   "source": [
    "x_train, x_test, y_train, y_test = train_test_split(red_wine.drop('quality', axis=1), red_wine.quality, test_size=0.3, random_state=123)"
   ]
  },
  {
   "cell_type": "code",
   "execution_count": 15,
   "metadata": {},
   "outputs": [],
   "source": [
    "loss_model = keras.Sequential([layers.Dense(512, activation='relu', input_shape=[x_train.shape[1]]), layers.Dense(512, activation='relu'), layers.Dense(512, activation='relu'), layers.Dense(1)])"
   ]
  },
  {
   "cell_type": "code",
   "execution_count": 16,
   "metadata": {},
   "outputs": [],
   "source": [
    "loss_model.compile(optimizer='adam', loss='mae')"
   ]
  },
  {
   "cell_type": "code",
   "execution_count": 17,
   "metadata": {},
   "outputs": [
    {
     "name": "stdout",
     "output_type": "stream",
     "text": [
      "Epoch 1/10\n",
      "5/5 [==============================] - 0s 38ms/step - loss: 4.0916 - val_loss: 1.3262\n",
      "Epoch 2/10\n",
      "5/5 [==============================] - 0s 10ms/step - loss: 1.3130 - val_loss: 0.7301\n",
      "Epoch 3/10\n",
      "5/5 [==============================] - 0s 8ms/step - loss: 0.8367 - val_loss: 0.6823\n",
      "Epoch 4/10\n",
      "5/5 [==============================] - 0s 10ms/step - loss: 0.7344 - val_loss: 0.7912\n",
      "Epoch 5/10\n",
      "5/5 [==============================] - 0s 7ms/step - loss: 0.6977 - val_loss: 0.6333\n",
      "Epoch 6/10\n",
      "5/5 [==============================] - 0s 9ms/step - loss: 0.7081 - val_loss: 0.6468\n",
      "Epoch 7/10\n",
      "5/5 [==============================] - 0s 10ms/step - loss: 0.6307 - val_loss: 0.5447\n",
      "Epoch 8/10\n",
      "5/5 [==============================] - 0s 11ms/step - loss: 0.6335 - val_loss: 0.6098\n",
      "Epoch 9/10\n",
      "5/5 [==============================] - 0s 6ms/step - loss: 0.6034 - val_loss: 0.5354\n",
      "Epoch 10/10\n",
      "5/5 [==============================] - 0s 7ms/step - loss: 0.5842 - val_loss: 0.5701\n"
     ]
    }
   ],
   "source": [
    "history = loss_model.fit(x_train, y_train, validation_data=(x_test, y_test), batch_size=256, epochs=10)"
   ]
  },
  {
   "cell_type": "code",
   "execution_count": 18,
   "metadata": {},
   "outputs": [
    {
     "data": {
      "image/png": "[encoded data removed]",
      "text/plain": [
       "<Figure size 432x288 with 1 Axes>"
      ]
     },
     "metadata": {
      "needs_background": "light"
     },
     "output_type": "display_data"
    }
   ],
   "source": [
    "history_df = pd.DataFrame(history.history)\n",
    "plt.plot(history_df.loss)\n",
    "plt.show()"
   ]
  },
  {
   "cell_type": "markdown",
   "metadata": {},
   "source": [
    "#### Learning Rate and Batch Size\n",
    "The smaller batch size gave noiser weight updates and loss curves. This is because each batch is a small sample of data and smaller samples tend to give noiser estimates. Smaller batches can have an 'averaging' effect which can be beneficial. \n",
    "\n",
    "Smaller learning rates make the updates smaller and training takes longer to converge. Large learning rates can speed up training but don't settle to a minimum as well. \n",
    "\n",
    "\n",
    "\n",
    "#### Overfitting and Underfitting\n",
    "Information in the training data is of two kinds: *signal* and *noise*. The signal is the part that generalises and can help to make predictions. The noise is the part that is only true of the training data. Underfitting is when the model has not learnt enough of the signal, and overfitting is when the model has learnt too much of the noise. \n",
    "\n",
    "##### Capacity\n",
    "A model's capacity refers to the size and complexity of patterns that it is able to learn. The capacity can be increased by making it wider (more units in layers), and deeper (more layers). wider networks have an easier time learning more linear relationships, while deeper networks prefer more nonlinear ones."
   ]
  },
  {
   "cell_type": "code",
   "execution_count": 19,
   "metadata": {},
   "outputs": [],
   "source": [
    "base_model = keras.Sequential([layers.Dense(16, activation='relu'), layers.Dense(1)])\n",
    "wider_model = keras.Sequential([layers.Dense(16, activation='relu'), layers.Dense(1)])\n",
    "deeper_model = keras.Sequential([layers.Dense(16, activation='relu'), layers.Dense(16, activation='relu'), layers.Dense(1)])"
   ]
  },
  {
   "cell_type": "markdown",
   "metadata": {},
   "source": [
    "##### Early Stopping\n",
    "Early stopping is used to stop training when the validation loss isn't decreasing anymore."
   ]
  },
  {
   "cell_type": "code",
   "execution_count": 20,
   "metadata": {},
   "outputs": [],
   "source": [
    "from tensorflow.keras.callbacks import EarlyStopping"
   ]
  },
  {
   "cell_type": "code",
   "execution_count": 21,
   "metadata": {},
   "outputs": [],
   "source": [
    "early_stopping = EarlyStopping(min_delta=0.001, patience=20, restore_best_weights=True)"
   ]
  },
  {
   "cell_type": "code",
   "execution_count": 22,
   "metadata": {},
   "outputs": [],
   "source": [
    "early_stopping_model = keras.Sequential([layers.Dense(512, activation='relu', input_shape=[x_train.shape[1]]), layers.Dense(512, activation='relu'), layers.Dense(512, activation='relu'), layers.Dense(1)])\n",
    "early_stopping_model.compile(optimizer='adam', loss='mae')"
   ]
  },
  {
   "cell_type": "code",
   "execution_count": 23,
   "metadata": {},
   "outputs": [],
   "source": [
    "history = early_stopping_model.fit(x_train, y_train, validation_data=(x_test, y_test), batch_size=256, epochs=500, callbacks=[early_stopping], verbose=0)"
   ]
  },
  {
   "cell_type": "code",
   "execution_count": 24,
   "metadata": {},
   "outputs": [
    {
     "data": {
      "image/png": "[encoded data removed]",
      "text/plain": [
       "<Figure size 432x288 with 1 Axes>"
      ]
     },
     "metadata": {
      "needs_background": "light"
     },
     "output_type": "display_data"
    }
   ],
   "source": [
    "history_df = pd.DataFrame(history.history)\n",
    "plt.plot(history_df.loss[5:], label='Training Loss')\n",
    "plt.plot(history_df.val_loss[5:], label='Validation Loss')\n",
    "plt.legend()\n",
    "plt.show()"
   ]
  },
  {
   "cell_type": "markdown",
   "metadata": {},
   "source": [
    "##### Dropout \n",
    "Overfitting is caused by the network learning a specific pattern in the training data, relying on a very specific combination of weights. A dropout layer is a random fraction of the layers inputs at every step of training so that the network is forced to only learn general patterns with robust weights. Dropout can also be thought of as creating an ensemble of networks. "
   ]
  },
  {
   "cell_type": "code",
   "execution_count": 25,
   "metadata": {},
   "outputs": [],
   "source": [
    "dropout_model = keras.Sequential([layers.Dense(512, activation='relu', input_shape=[x_train.shape[1]]), \n",
    "layers.Dropout(rate=0.3), layers.Dense(512, activation='relu'), # this dropout works to drop out 30% of the next layer\n",
    "layers.Dense(1)])"
   ]
  },
  {
   "cell_type": "markdown",
   "metadata": {},
   "source": [
    "##### Batch Normalisation\n",
    "Normalisation is important for neural networks as features that produce activations of very different sizes can make for unstable training behaviour. A batch normalisation layer normalises the batch inside the network. \n",
    "\n",
    "Batch normalisation can be used at any point in the network, but having it as the first layer acts as an adaptive preprocessor. "
   ]
  },
  {
   "cell_type": "code",
   "execution_count": 26,
   "metadata": {},
   "outputs": [],
   "source": [
    "batchnorm_model = keras.Sequential([layers.BatchNormalization(), layers.Dense(512, activation='relu', input_shape=[x_train.shape[1]]),  layers.Dense(512, activation='relu'), layers.Dense(1)])"
   ]
  },
  {
   "cell_type": "code",
   "execution_count": 27,
   "metadata": {},
   "outputs": [],
   "source": [
    "drop_batchnorm_model = keras.Sequential([layers.Dense(1024, activation='relu', input_shape=[11]), layers.Dropout(0.3), layers.BatchNormalization(),\n",
    "    layers.Dense(1024, activation='relu'), layers.Dropout(0.3), layers.BatchNormalization(),\n",
    "    layers.Dense(1024, activation='relu'), layers.Dropout(0.3), layers.BatchNormalization(),\n",
    "    layers.Dense(1),])\n",
    "drop_batchnorm_model.compile(optimizer='adam', loss='mae')"
   ]
  },
  {
   "cell_type": "code",
   "execution_count": 28,
   "metadata": {},
   "outputs": [],
   "source": [
    "history = drop_batchnorm_model.fit(x_train, y_train, validation_data=(x_test, y_test), batch_size=256, epochs=100, verbose=0)"
   ]
  },
  {
   "cell_type": "code",
   "execution_count": 29,
   "metadata": {},
   "outputs": [
    {
     "data": {
      "image/png": "[encoded data removed]",
      "text/plain": [
       "<Figure size 432x288 with 1 Axes>"
      ]
     },
     "metadata": {
      "needs_background": "light"
     },
     "output_type": "display_data"
    }
   ],
   "source": [
    "history_df = pd.DataFrame(history.history)\n",
    "plt.plot(history_df.loss, label='Training Loss')\n",
    "plt.plot(history_df.val_loss, label='Validation Loss')\n",
    "plt.legend()\n",
    "plt.show()"
   ]
  },
  {
   "cell_type": "markdown",
   "metadata": {},
   "source": [
    "#### Binary Classification\n",
    "\n",
    "##### Accuracy and Cross Entropy\n",
    "\n",
    "Accuracy is the ratio of correct predictions to all predictions, and is a reasonbale metric to use for balanced class datasets. However, it cannot be used as a loss function. SGD needs a loss function that changes smoothly, so instead we use cross entropy for the loss function. \n",
    "\n",
    "*Cross entropy* is a measure for the distance from one probability distribution to another. We want our model to predict the correct class with probability of 1, the further away the predicted probability is from 1, the greater the cross entropy loss. "
   ]
  },
  {
   "cell_type": "code",
   "execution_count": 30,
   "metadata": {},
   "outputs": [],
   "source": [
    "ion = pd.read_csv('ion.csv', index_col=0)"
   ]
  },
  {
   "cell_type": "code",
   "execution_count": 31,
   "metadata": {},
   "outputs": [],
   "source": [
    "ion_copy = ion.copy()\n",
    "ion_copy.Class = ion_copy.Class.map({'good': 0, 'bad': 1})\n",
    "ion_copy.dropna(axis=1, inplace=True)"
   ]
  },
  {
   "cell_type": "code",
   "execution_count": 40,
   "metadata": {},
   "outputs": [],
   "source": [
    "df = ion.copy()\n",
    "df['Class'] = df.Class.map({'good': 0, 'bad': 1})\n",
    "\n",
    "df_train = df.sample(frac=0.7, random_state=0)\n",
    "df_valid = df.drop(df_train.index)\n",
    "\n",
    "max_ = df_train.max(axis=0)\n",
    "min_ = df_train.min(axis=0)\n",
    "\n",
    "df_train = (df_train - min_) / (max_ - min_)\n",
    "df_valid = (df_valid - min_) / (max_ - min_)\n",
    "df_train.dropna(axis=1, inplace=True) \n",
    "df_valid.dropna(axis=1, inplace=True)\n",
    "\n",
    "x_train = df_train.drop('Class', axis=1)\n",
    "x_valid = df_valid.drop('Class', axis=1)\n",
    "y_train = df_train.Class\n",
    "y_valid = df_valid.Class"
   ]
  },
  {
   "cell_type": "markdown",
   "metadata": {},
   "source": [
    "A sigmoid function is included in the final dense layer in order to convert the real-valued outputs into probabilities. To get the final class prediction a threshold probability is taken, typically at 0.5. "
   ]
  },
  {
   "cell_type": "code",
   "execution_count": 43,
   "metadata": {},
   "outputs": [],
   "source": [
    "binary_model = keras.Sequential([layers.Dense(4, activation='relu', input_shape=[33]), layers.Dense(4, activation='relu'), \n",
    "layers.Dense(1, activation='sigmoid')])"
   ]
  },
  {
   "cell_type": "code",
   "execution_count": 44,
   "metadata": {},
   "outputs": [],
   "source": [
    "binary_model.compile(optimizer='adam', loss='binary_crossentropy', metrics=['binary_accuracy'])"
   ]
  },
  {
   "cell_type": "code",
   "execution_count": 45,
   "metadata": {},
   "outputs": [],
   "source": [
    "early_stopping = keras.callbacks.EarlyStopping(patience=10, min_delta=0.001, restore_best_weights=True)\n",
    "\n",
    "history = binary_model.fit(x_train, y_train, validation_data=(x_valid, y_valid), batch_size=512, epochs=1000, callbacks=[early_stopping], verbose=0)"
   ]
  },
  {
   "cell_type": "code",
   "execution_count": 46,
   "metadata": {},
   "outputs": [
    {
     "name": "stdout",
     "output_type": "stream",
     "text": [
      "Best validation loss: 0.4177235960960388\n",
      "Best validation accuracy: 0.7523809671401978\n"
     ]
    },
    {
     "data": {
      "image/png": "[encoded data removed]",
      "text/plain": [
       "<Figure size 432x288 with 1 Axes>"
      ]
     },
     "metadata": {
      "needs_background": "light"
     },
     "output_type": "display_data"
    },
    {
     "data": {
      "image/png": "[encoded data removed]",
      "text/plain": [
       "<Figure size 432x288 with 1 Axes>"
      ]
     },
     "metadata": {
      "needs_background": "light"
     },
     "output_type": "display_data"
    }
   ],
   "source": [
    "history_df = pd.DataFrame(history.history)\n",
    "history_df.loc[5:, ['loss', 'val_loss']].plot()\n",
    "history_df.loc[5:, ['binary_accuracy', 'val_binary_accuracy']].plot()\n",
    "\n",
    "best_loss = history_df['val_loss'].min()\n",
    "best_acc = history_df['val_binary_accuracy'].min()\n",
    "\n",
    "print(f'Best validation loss: {best_loss}')\n",
    "print(f'Best validation accuracy: {best_acc}')"
   ]
  },
  {
   "cell_type": "code",
   "execution_count": null,
   "metadata": {},
   "outputs": [],
   "source": []
  }
 ],
 "metadata": {
  "interpreter": {
   "hash": "9fec3ab36716fe125c1a0073683c6433cb45ee410fe515abe8040210eb6e3016"
  },
  "kernelspec": {
   "display_name": "Python 3.8.8 64-bit ('base': conda)",
   "language": "python",
   "name": "python3"
  },
  "language_info": {
   "codemirror_mode": {
    "name": "ipython",
    "version": 3
   },
   "file_extension": ".py",
   "mimetype": "text/x-python",
   "name": "python",
   "nbconvert_exporter": "python",
   "pygments_lexer": "ipython3",
   "version": "3.8.8"
  },
  "orig_nbformat": 4
 },
 "nbformat": 4,
 "nbformat_minor": 2
}
