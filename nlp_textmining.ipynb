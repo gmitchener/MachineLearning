{
 "cells": [
  {
   "cell_type": "code",
   "execution_count": 2,
   "metadata": {},
   "outputs": [],
   "source": [
    "import numpy as np \n",
    "import pandas as pd"
   ]
  },
  {
   "cell_type": "markdown",
   "metadata": {},
   "source": [
    "https://medium.com/fintechexplained/nlp-text-mining-algorithms-4546c6ca30a\n",
    "\n",
    "### N Grams\n",
    "\n",
    "https://medium.com/analytics-vidhya/n-gram-language-models-9021b4a3b6b"
   ]
  },
  {
   "cell_type": "code",
   "execution_count": 10,
   "metadata": {},
   "outputs": [],
   "source": [
    "from nltk.util import ngrams \n",
    "from nltk import word_tokenize\n",
    "from collections import Counter"
   ]
  },
  {
   "cell_type": "code",
   "execution_count": 14,
   "metadata": {},
   "outputs": [
    {
     "name": "stderr",
     "output_type": "stream",
     "text": [
      "[nltk_data] Downloading package punkt to\n",
      "[nltk_data]     C:\\Users\\GMN19\\AppData\\Roaming\\nltk_data...\n",
      "[nltk_data]   Unzipping tokenizers\\punkt.zip.\n"
     ]
    },
    {
     "data": {
      "text/plain": [
       "True"
      ]
     },
     "execution_count": 14,
     "metadata": {},
     "output_type": "execute_result"
    }
   ],
   "source": [
    "#import nltk\n",
    "#nltk.download('punkt')"
   ]
  },
  {
   "cell_type": "code",
   "execution_count": 8,
   "metadata": {},
   "outputs": [],
   "source": [
    "text = 'FinTechExplained is a publication'"
   ]
  },
  {
   "cell_type": "code",
   "execution_count": 22,
   "metadata": {},
   "outputs": [],
   "source": [
    "grams_1 = ngrams(word_tokenize(text), 1)\n",
    "grams_2 = ngrams(word_tokenize(text), 2)\n",
    "grams_3 = ngrams(word_tokenize(text), 3)\n",
    "grams_4 = ngrams(word_tokenize(text), 4)"
   ]
  },
  {
   "cell_type": "code",
   "execution_count": 24,
   "metadata": {},
   "outputs": [
    {
     "name": "stdout",
     "output_type": "stream",
     "text": [
      "[('FinTechExplained',), ('is',), ('a',), ('publication',)]\n",
      "[('FinTechExplained', 'is'), ('is', 'a'), ('a', 'publication')]\n",
      "[('FinTechExplained', 'is', 'a'), ('is', 'a', 'publication')]\n",
      "[('FinTechExplained', 'is', 'a', 'publication')]\n"
     ]
    }
   ],
   "source": [
    "for gram in [grams_1, grams_2, grams_3, grams_4]:\n",
    "    print(list(gram))"
   ]
  },
  {
   "cell_type": "code",
   "execution_count": 26,
   "metadata": {},
   "outputs": [
    {
     "name": "stderr",
     "output_type": "stream",
     "text": [
      "[nltk_data] Downloading package brown to\n",
      "[nltk_data]     C:\\Users\\GMN19\\AppData\\Roaming\\nltk_data...\n",
      "[nltk_data]   Unzipping corpora\\brown.zip.\n"
     ]
    },
    {
     "data": {
      "text/plain": [
       "True"
      ]
     },
     "execution_count": 26,
     "metadata": {},
     "output_type": "execute_result"
    }
   ],
   "source": [
    "#nltk.download('brown')"
   ]
  },
  {
   "cell_type": "code",
   "execution_count": 73,
   "metadata": {},
   "outputs": [],
   "source": [
    "from nltk.corpus import brown \n",
    "words = list(brown.words())"
   ]
  },
  {
   "cell_type": "code",
   "execution_count": 108,
   "metadata": {},
   "outputs": [],
   "source": [
    "sentence = 'The president is planning to'\n",
    "tokens = sentence.split()"
   ]
  },
  {
   "cell_type": "code",
   "execution_count": 109,
   "metadata": {},
   "outputs": [],
   "source": [
    "trigrams = list(ngrams(words, 3))"
   ]
  },
  {
   "cell_type": "code",
   "execution_count": 110,
   "metadata": {},
   "outputs": [],
   "source": [
    "from nltk.probability import ConditionalFreqDist\n",
    "cfdist = ConditionalFreqDist()"
   ]
  },
  {
   "cell_type": "code",
   "execution_count": 111,
   "metadata": {},
   "outputs": [],
   "source": [
    "for w1, w2, w3 in trigrams:\n",
    "    cfdist[(w1, w2)][w3] += 1"
   ]
  },
  {
   "cell_type": "code",
   "execution_count": 112,
   "metadata": {},
   "outputs": [],
   "source": [
    "for w1_w2 in cfdist:\n",
    "    total_count = float(sum(cfdist[w1_w2].values()))\n",
    "    for w3 in cfdist[w1_w2]:\n",
    "        cfdist[w1_w2][w3] /= total_count"
   ]
  },
  {
   "cell_type": "code",
   "execution_count": 113,
   "metadata": {},
   "outputs": [],
   "source": [
    "w1 = len(tokens) - 2\n",
    "w2 = len(tokens)\n",
    "prev_words = tokens[w1:w2]"
   ]
  },
  {
   "cell_type": "code",
   "execution_count": 114,
   "metadata": {},
   "outputs": [],
   "source": [
    "prediction = sorted(dict(cfdist[prev_words[0], prev_words[1]]), key=lambda x: dict(cfdist[prev_words[0], prev_words[1]])[x], reverse=True)"
   ]
  },
  {
   "cell_type": "code",
   "execution_count": 115,
   "metadata": {},
   "outputs": [
    {
     "name": "stdout",
     "output_type": "stream",
     "text": [
      "The president is planning to expand shelter bring tour `` use greet set remarry\n"
     ]
    }
   ],
   "source": [
    "print(sentence+' '+' '.join(prediction))"
   ]
  },
  {
   "cell_type": "markdown",
   "metadata": {},
   "source": [
    "### Bag of Words"
   ]
  },
  {
   "cell_type": "code",
   "execution_count": 138,
   "metadata": {},
   "outputs": [],
   "source": [
    "review1 = 'This movie was long and boring'.split()\n",
    "review2 = 'I found this movie to be good and thought provoking but very long'.split()\n",
    "review3 = 'I was bored during the movie but it was an interesting concept'.split()"
   ]
  },
  {
   "cell_type": "code",
   "execution_count": 128,
   "metadata": {},
   "outputs": [],
   "source": [
    "from nltk.corpus import stopwords \n",
    "import regex as re"
   ]
  },
  {
   "cell_type": "code",
   "execution_count": 136,
   "metadata": {},
   "outputs": [],
   "source": [
    "stopwords = set(stopwords.words('english'))"
   ]
  },
  {
   "cell_type": "code",
   "execution_count": 131,
   "metadata": {},
   "outputs": [],
   "source": [
    "def word_extraction(sentence):       \n",
    "    cleaned_text = [w.lower() for w in sentence if w not in stopwords]    \n",
    "    return cleaned_text"
   ]
  },
  {
   "cell_type": "code",
   "execution_count": 146,
   "metadata": {},
   "outputs": [],
   "source": [
    "def tokenize(reviews):\n",
    "    words = []\n",
    "    for review in reviews:\n",
    "        w = word_extraction(review)\n",
    "        words.extend(w)\n",
    "    words = sorted(list(set(words)))\n",
    "    return words"
   ]
  },
  {
   "cell_type": "code",
   "execution_count": 151,
   "metadata": {},
   "outputs": [],
   "source": [
    "def generate_bow(allreviews):\n",
    "    vocab = tokenize(allreviews)\n",
    "    print(f'Word list: {vocab}')\n",
    "    return vocab"
   ]
  },
  {
   "cell_type": "code",
   "execution_count": 152,
   "metadata": {},
   "outputs": [
    {
     "name": "stdout",
     "output_type": "stream",
     "text": [
      "Word list: ['bored', 'boring', 'concept', 'found', 'good', 'i', 'interesting', 'long', 'movie', 'provoking', 'this', 'thought']\n"
     ]
    }
   ],
   "source": [
    "vocab = generate_bow([review1, review2, review3])"
   ]
  },
  {
   "cell_type": "code",
   "execution_count": 153,
   "metadata": {},
   "outputs": [
    {
     "name": "stdout",
     "output_type": "stream",
     "text": [
      "['This', 'movie', 'was', 'long', 'and', 'boring']: [0. 1. 0. 0. 0. 0. 0. 1. 1. 0. 1. 0.]\n",
      "['I', 'found', 'this', 'movie', 'to', 'be', 'good', 'and', 'thought', 'provoking', 'but', 'very', 'long']: [0. 0. 0. 1. 1. 1. 0. 1. 1. 1. 0. 1.]\n",
      "['I', 'was', 'bored', 'during', 'the', 'movie', 'but', 'it', 'was', 'an', 'interesting', 'concept']: [1. 0. 1. 0. 0. 1. 1. 0. 1. 0. 0. 0.]\n"
     ]
    }
   ],
   "source": [
    "for review in [review1, review2, review3]:\n",
    "    words = word_extraction(review)\n",
    "    bag_vector = np.zeros(len(vocab))\n",
    "    for w in words:\n",
    "        for i,word in enumerate(vocab):\n",
    "            if word == w:\n",
    "                bag_vector[i] += 1\n",
    "    print(f'{review}: {np.array(bag_vector)}')"
   ]
  },
  {
   "cell_type": "code",
   "execution_count": null,
   "metadata": {},
   "outputs": [],
   "source": []
  }
 ],
 "metadata": {
  "interpreter": {
   "hash": "9fec3ab36716fe125c1a0073683c6433cb45ee410fe515abe8040210eb6e3016"
  },
  "kernelspec": {
   "display_name": "Python 3.8.8 64-bit ('base': conda)",
   "language": "python",
   "name": "python3"
  },
  "language_info": {
   "codemirror_mode": {
    "name": "ipython",
    "version": 3
   },
   "file_extension": ".py",
   "mimetype": "text/x-python",
   "name": "python",
   "nbconvert_exporter": "python",
   "pygments_lexer": "ipython3",
   "version": "3.8.8"
  },
  "orig_nbformat": 4
 },
 "nbformat": 4,
 "nbformat_minor": 2
}
