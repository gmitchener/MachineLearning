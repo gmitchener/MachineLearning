{
 "cells": [
  {
   "cell_type": "code",
   "execution_count": 1,
   "metadata": {},
   "outputs": [],
   "source": [
    "import numpy as np \n",
    "import math \n",
    "import pandas as pd "
   ]
  },
  {
   "cell_type": "code",
   "execution_count": 3,
   "metadata": {},
   "outputs": [
    {
     "data": {
      "text/html": [
       "<div>\n",
       "<style scoped>\n",
       "    .dataframe tbody tr th:only-of-type {\n",
       "        vertical-align: middle;\n",
       "    }\n",
       "\n",
       "    .dataframe tbody tr th {\n",
       "        vertical-align: top;\n",
       "    }\n",
       "\n",
       "    .dataframe thead th {\n",
       "        text-align: right;\n",
       "    }\n",
       "</style>\n",
       "<table border=\"1\" class=\"dataframe\">\n",
       "  <thead>\n",
       "    <tr style=\"text-align: right;\">\n",
       "      <th></th>\n",
       "      <th>name</th>\n",
       "      <th>age</th>\n",
       "      <th>apple_pie</th>\n",
       "      <th>potato_salad</th>\n",
       "      <th>sushi</th>\n",
       "      <th>midwest</th>\n",
       "    </tr>\n",
       "  </thead>\n",
       "  <tbody>\n",
       "    <tr>\n",
       "      <th>0</th>\n",
       "      <td>jeff</td>\n",
       "      <td>32</td>\n",
       "      <td>0</td>\n",
       "      <td>1</td>\n",
       "      <td>1</td>\n",
       "      <td>1</td>\n",
       "    </tr>\n",
       "    <tr>\n",
       "      <th>1</th>\n",
       "      <td>pete</td>\n",
       "      <td>25</td>\n",
       "      <td>1</td>\n",
       "      <td>1</td>\n",
       "      <td>0</td>\n",
       "      <td>1</td>\n",
       "    </tr>\n",
       "    <tr>\n",
       "      <th>2</th>\n",
       "      <td>anne</td>\n",
       "      <td>33</td>\n",
       "      <td>1</td>\n",
       "      <td>1</td>\n",
       "      <td>0</td>\n",
       "      <td>1</td>\n",
       "    </tr>\n",
       "    <tr>\n",
       "      <th>3</th>\n",
       "      <td>natalie</td>\n",
       "      <td>26</td>\n",
       "      <td>0</td>\n",
       "      <td>0</td>\n",
       "      <td>1</td>\n",
       "      <td>1</td>\n",
       "    </tr>\n",
       "    <tr>\n",
       "      <th>4</th>\n",
       "      <td>stella</td>\n",
       "      <td>30</td>\n",
       "      <td>1</td>\n",
       "      <td>1</td>\n",
       "      <td>1</td>\n",
       "      <td>1</td>\n",
       "    </tr>\n",
       "  </tbody>\n",
       "</table>\n",
       "</div>"
      ],
      "text/plain": [
       "      name  age  apple_pie  potato_salad  sushi  midwest\n",
       "0     jeff   32          0             1      1        1\n",
       "1     pete   25          1             1      0        1\n",
       "2     anne   33          1             1      0        1\n",
       "3  natalie   26          0             0      1        1\n",
       "4   stella   30          1             1      1        1"
      ]
     },
     "execution_count": 3,
     "metadata": {},
     "output_type": "execute_result"
    }
   ],
   "source": [
    "data = pd.read_csv('entropy.csv')\n",
    "data.head()"
   ]
  },
  {
   "cell_type": "code",
   "execution_count": 5,
   "metadata": {},
   "outputs": [],
   "source": [
    "def calculate_entropy(column):\n",
    "    counts = np.bincount(column)\n",
    "    probabilities = counts/len(column)\n",
    "    \n",
    "    entropy = 0\n",
    "\n",
    "    for prob in probabilities:\n",
    "        entropy += prob*math.log(prob, len(probabilities))\n",
    "\n",
    "    return -entropy"
   ]
  },
  {
   "cell_type": "code",
   "execution_count": 6,
   "metadata": {},
   "outputs": [
    {
     "data": {
      "text/plain": [
       "0.8366407419411673"
      ]
     },
     "execution_count": 6,
     "metadata": {},
     "output_type": "execute_result"
    }
   ],
   "source": [
    "calculate_entropy(data.midwest)"
   ]
  },
  {
   "cell_type": "code",
   "execution_count": 19,
   "metadata": {},
   "outputs": [],
   "source": [
    "def calculate_information_gain(data, split_name, target_name):\n",
    "    original_entropy = calculate_entropy(data[target_name])\n",
    "\n",
    "    values = data[split_name].unique()\n",
    "    splits = []\n",
    "    for i in range(len(values)):\n",
    "        splits.append(data[data[split_name] == values[i]])\n",
    "\n",
    "    to_subtract = 0\n",
    "    for subset in splits:\n",
    "        prob = (subset.shape[0]/data.shape[0])\n",
    "        to_subtract += prob*calculate_entropy(subset[target_name])\n",
    "    \n",
    "    return original_entropy-to_subtract "
   ]
  },
  {
   "cell_type": "code",
   "execution_count": 32,
   "metadata": {},
   "outputs": [],
   "source": [
    "def highest_information_gain(data, split_names_list, target_name):\n",
    "    best_information_gain = 0\n",
    "    best_split = ' '\n",
    "\n",
    "    for split_name in split_names_list:\n",
    "        split_information_gain = calculate_information_gain(data, split_name, target_name)\n",
    "        if split_information_gain > best_information_gain:\n",
    "            best_split = split_name\n",
    "            best_information_gain = calculate_information_gain(data, split_name, target_name)\n",
    "\n",
    "    print(f'Best split on: {best_split}')\n",
    "    print(f'Information gained: {best_information_gain}')\n",
    "    print()\n",
    "\n",
    "    values = data[best_split].unique()\n",
    "    for i in range(len(values)):\n",
    "        split_data = data[data[best_split] == values[i]]\n",
    "        print(split_data)\n",
    "        print(f'Entropy: {calculate_entropy(split_data[target_name])}')\n",
    "        print() "
   ]
  },
  {
   "cell_type": "code",
   "execution_count": 36,
   "metadata": {},
   "outputs": [
    {
     "name": "stdout",
     "output_type": "stream",
     "text": [
      "       name  age  apple_pie  potato_salad  sushi  midwest\n",
      "0      jeff   32          0             1      1        1\n",
      "1      pete   25          1             1      0        1\n",
      "2      anne   33          1             1      0        1\n",
      "3   natalie   26          0             0      1        1\n",
      "4    stella   30          1             1      1        1\n",
      "5       rob   25          1             0      0        1\n",
      "6       joe   42          1             1      0        1\n",
      "7       jim   38          1             1      0        1\n",
      "8      lisa   36          1             1      0        0\n",
      "9     sarah   29          1             0      1        0\n",
      "10    david   35          1             0      0        1\n",
      "11     eric   28          1             1      1        0\n",
      "12     mike   20          0             1      0        1\n",
      "13    karen   38          1             0      0        1\n",
      "14    megan   31          0             0      1        0\n",
      "Entropy of the dataset before splits: 0.8366407419411673\n",
      "\n",
      "Best split on: sushi\n",
      "Information gained: 0.1346857410757799\n",
      "\n",
      "       name  age  apple_pie  potato_salad  sushi  midwest\n",
      "0      jeff   32          0             1      1        1\n",
      "3   natalie   26          0             0      1        1\n",
      "4    stella   30          1             1      1        1\n",
      "9     sarah   29          1             0      1        0\n",
      "11     eric   28          1             1      1        0\n",
      "14    megan   31          0             0      1        0\n",
      "Entropy: 1.0\n",
      "\n",
      "     name  age  apple_pie  potato_salad  sushi  midwest\n",
      "1    pete   25          1             1      0        1\n",
      "2    anne   33          1             1      0        1\n",
      "5     rob   25          1             0      0        1\n",
      "6     joe   42          1             1      0        1\n",
      "7     jim   38          1             1      0        1\n",
      "8    lisa   36          1             1      0        0\n",
      "10  david   35          1             0      0        1\n",
      "12   mike   20          0             1      0        1\n",
      "13  karen   38          1             0      0        1\n",
      "Entropy: 0.5032583347756457\n",
      "\n"
     ]
    }
   ],
   "source": [
    "print(data)\n",
    "print(f'Entropy of the dataset before splits: {calculate_entropy(data.midwest)}')\n",
    "print()\n",
    "highest_information_gain(data, ['apple_pie', 'sushi', 'potato_salad'], 'midwest')"
   ]
  },
  {
   "cell_type": "code",
   "execution_count": null,
   "metadata": {},
   "outputs": [],
   "source": []
  }
 ],
 "metadata": {
  "interpreter": {
   "hash": "9fec3ab36716fe125c1a0073683c6433cb45ee410fe515abe8040210eb6e3016"
  },
  "kernelspec": {
   "display_name": "Python 3.8.8 64-bit ('base': conda)",
   "language": "python",
   "name": "python3"
  },
  "language_info": {
   "codemirror_mode": {
    "name": "ipython",
    "version": 3
   },
   "file_extension": ".py",
   "mimetype": "text/x-python",
   "name": "python",
   "nbconvert_exporter": "python",
   "pygments_lexer": "ipython3",
   "version": "3.8.8"
  },
  "orig_nbformat": 4
 },
 "nbformat": 4,
 "nbformat_minor": 2
}
